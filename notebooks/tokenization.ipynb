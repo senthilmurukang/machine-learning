{
 "cells": [
  {
   "cell_type": "markdown",
   "metadata": {},
   "source": [
    "## Learn tokenization with Natural Language Toolkit (NLTK)"
   ]
  },
  {
   "cell_type": "code",
   "execution_count": 4,
   "metadata": {},
   "outputs": [],
   "source": [
    "import nltk\n",
    "import numpy"
   ]
  },
  {
   "cell_type": "code",
   "execution_count": 23,
   "metadata": {},
   "outputs": [
    {
     "name": "stderr",
     "output_type": "stream",
     "text": [
      "[nltk_data] Downloading package punkt_tab to\n",
      "[nltk_data]     /home/codespace/nltk_data...\n",
      "[nltk_data]   Package punkt_tab is already up-to-date!\n",
      "[nltk_data] Downloading package averaged_perceptron_tagger_eng to\n",
      "[nltk_data]     /home/codespace/nltk_data...\n",
      "[nltk_data]   Unzipping taggers/averaged_perceptron_tagger_eng.zip.\n"
     ]
    },
    {
     "data": {
      "text/plain": [
       "True"
      ]
     },
     "execution_count": 23,
     "metadata": {},
     "output_type": "execute_result"
    }
   ],
   "source": [
    "nltk.download('punkt_tab')\n",
    "nltk.download('averaged_perceptron_tagger_eng')"
   ]
  },
  {
   "cell_type": "code",
   "execution_count": 18,
   "metadata": {},
   "outputs": [],
   "source": [
    "semantic_text = \"The serial encoding is 8B10B and was chosen because it is DC-balanced, which makes it ideal for fiber optic communication where the controller FPGA and sensor ASIC(s) can be 100+ meters apart. 8B10B was also chosen because of its ability to establish deterministic, fixed latency communication. The deterministic latency feature provides the ability to send synchronizing timing OPerational Codes (OP-codes) from the FPGA to the ASIC(s).\""
   ]
  },
  {
   "cell_type": "code",
   "execution_count": 19,
   "metadata": {},
   "outputs": [],
   "source": [
    "tokenized_text = nltk.word_tokenize(semantic_text)"
   ]
  },
  {
   "cell_type": "code",
   "execution_count": 24,
   "metadata": {},
   "outputs": [],
   "source": [
    "tagged = nltk.pos_tag(tokenized_text)"
   ]
  },
  {
   "cell_type": "code",
   "execution_count": 25,
   "metadata": {},
   "outputs": [
    {
     "name": "stdout",
     "output_type": "stream",
     "text": [
      "[('The', 'DT'), ('serial', 'JJ'), ('encoding', 'NN'), ('is', 'VBZ'), ('8B10B', 'CD'), ('and', 'CC'), ('was', 'VBD'), ('chosen', 'VBN'), ('because', 'IN'), ('it', 'PRP'), ('is', 'VBZ'), ('DC-balanced', 'NNP'), (',', ','), ('which', 'WDT'), ('makes', 'VBZ'), ('it', 'PRP'), ('ideal', 'VB'), ('for', 'IN'), ('fiber', 'JJ'), ('optic', 'JJ'), ('communication', 'NN'), ('where', 'WRB'), ('the', 'DT'), ('controller', 'NN'), ('FPGA', 'NNP'), ('and', 'CC'), ('sensor', 'NN'), ('ASIC', 'NNP'), ('(', '('), ('s', 'PRP'), (')', ')'), ('can', 'MD'), ('be', 'VB'), ('100+', 'CD'), ('meters', 'NNS'), ('apart', 'RB'), ('.', '.'), ('8B10B', 'CD'), ('was', 'VBD'), ('also', 'RB'), ('chosen', 'VBN'), ('because', 'IN'), ('of', 'IN'), ('its', 'PRP$'), ('ability', 'NN'), ('to', 'TO'), ('establish', 'VB'), ('deterministic', 'JJ'), (',', ','), ('fixed', 'JJ'), ('latency', 'NN'), ('communication', 'NN'), ('.', '.'), ('The', 'DT'), ('deterministic', 'JJ'), ('latency', 'NN'), ('feature', 'NN'), ('provides', 'VBZ'), ('the', 'DT'), ('ability', 'NN'), ('to', 'TO'), ('send', 'VB'), ('synchronizing', 'VBG'), ('timing', 'VBG'), ('OPerational', 'NNP'), ('Codes', 'NNP'), ('(', '('), ('OP-codes', 'NNP'), (')', ')'), ('from', 'IN'), ('the', 'DT'), ('FPGA', 'NNP'), ('to', 'TO'), ('the', 'DT'), ('ASIC', 'NNP'), ('(', '('), ('s', 'NN'), (')', ')'), ('.', '.')]\n"
     ]
    }
   ],
   "source": [
    "print(tagged)"
   ]
  },
  {
   "cell_type": "code",
   "execution_count": null,
   "metadata": {},
   "outputs": [],
   "source": []
  }
 ],
 "metadata": {
  "kernelspec": {
   "display_name": "machine-learning",
   "language": "python",
   "name": "python3"
  },
  "language_info": {
   "codemirror_mode": {
    "name": "ipython",
    "version": 3
   },
   "file_extension": ".py",
   "mimetype": "text/x-python",
   "name": "python",
   "nbconvert_exporter": "python",
   "pygments_lexer": "ipython3",
   "version": "3.12.7"
  }
 },
 "nbformat": 4,
 "nbformat_minor": 2
}
